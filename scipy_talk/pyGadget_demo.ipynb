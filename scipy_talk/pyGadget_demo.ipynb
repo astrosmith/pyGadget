{
 "cells": [
  {
   "cell_type": "markdown",
   "metadata": {},
   "source": [
    "##### Import PyGadget"
   ]
  },
  {
   "cell_type": "code",
   "execution_count": 1,
   "metadata": {
    "collapsed": true
   },
   "outputs": [],
   "source": [
    "import pyGadget as pyg"
   ]
  },
  {
   "cell_type": "markdown",
   "metadata": {},
   "source": [
    "#####Initialize simulation metadata"
   ]
  },
  {
   "cell_type": "code",
   "execution_count": 2,
   "metadata": {
    "collapsed": true
   },
   "outputs": [],
   "source": [
    "sim = pyg.Simulation('stampede/vanilla')#, path='')"
   ]
  },
  {
   "cell_type": "code",
   "execution_count": 3,
   "metadata": {
    "collapsed": false
   },
   "outputs": [
    {
     "data": {
      "text/plain": [
       "{0: '/home/jhummel/sim/stampede/vanilla/snapshot_000.hdf5',\n",
       " 10: '/home/jhummel/sim/stampede/vanilla/snapshot_010.hdf5',\n",
       " 20: '/home/jhummel/sim/stampede/vanilla/snapshot_020.hdf5',\n",
       " 30: '/home/jhummel/sim/stampede/vanilla/snapshot_030.hdf5',\n",
       " 40: '/home/jhummel/sim/stampede/vanilla/snapshot_040.hdf5',\n",
       " 50: '/home/jhummel/sim/stampede/vanilla/snapshot_050.hdf5',\n",
       " 60: '/home/jhummel/sim/stampede/vanilla/snapshot_060.hdf5',\n",
       " 70: '/home/jhummel/sim/stampede/vanilla/snapshot_070.hdf5',\n",
       " 80: '/home/jhummel/sim/stampede/vanilla/snapshot_080.hdf5',\n",
       " 90: '/home/jhummel/sim/stampede/vanilla/snapshot_090.hdf5',\n",
       " 100: '/home/jhummel/sim/stampede/vanilla/snapshot_100.hdf5',\n",
       " 110: '/home/jhummel/sim/stampede/vanilla/snapshot_110.hdf5',\n",
       " 120: '/home/jhummel/sim/stampede/vanilla/snapshot_120.hdf5',\n",
       " 130: '/home/jhummel/sim/stampede/vanilla/snapshot_130.hdf5',\n",
       " 140: '/home/jhummel/sim/stampede/vanilla/snapshot_140.hdf5',\n",
       " 150: '/home/jhummel/sim/stampede/vanilla/snapshot_150.hdf5',\n",
       " 160: '/home/jhummel/sim/stampede/vanilla/snapshot_160.hdf5',\n",
       " 170: '/home/jhummel/sim/stampede/vanilla/snapshot_170.hdf5',\n",
       " 180: '/home/jhummel/sim/stampede/vanilla/snapshot_180.hdf5',\n",
       " 190: '/home/jhummel/sim/stampede/vanilla/snapshot_190.hdf5',\n",
       " 200: '/home/jhummel/sim/stampede/vanilla/snapshot_200.hdf5',\n",
       " 210: '/home/jhummel/sim/stampede/vanilla/snapshot_210.hdf5',\n",
       " 220: '/home/jhummel/sim/stampede/vanilla/snapshot_220.hdf5',\n",
       " 230: '/home/jhummel/sim/stampede/vanilla/snapshot_230.hdf5',\n",
       " 240: '/home/jhummel/sim/stampede/vanilla/snapshot_240.hdf5',\n",
       " 250: '/home/jhummel/sim/stampede/vanilla/snapshot_250.hdf5',\n",
       " 260: '/home/jhummel/sim/stampede/vanilla/snapshot_260.hdf5',\n",
       " 270: '/home/jhummel/sim/stampede/vanilla/snapshot_270.hdf5',\n",
       " 280: '/home/jhummel/sim/stampede/vanilla/snapshot_280.hdf5',\n",
       " 290: '/home/jhummel/sim/stampede/vanilla/snapshot_290.hdf5',\n",
       " 300: '/home/jhummel/sim/stampede/vanilla/snapshot_300.hdf5',\n",
       " 310: '/home/jhummel/sim/stampede/vanilla/snapshot_310.hdf5',\n",
       " 320: '/home/jhummel/sim/stampede/vanilla/snapshot_320.hdf5',\n",
       " 330: '/home/jhummel/sim/stampede/vanilla/snapshot_330.hdf5',\n",
       " 340: '/home/jhummel/sim/stampede/vanilla/snapshot_340.hdf5',\n",
       " 350: '/home/jhummel/sim/stampede/vanilla/snapshot_350.hdf5',\n",
       " 351: '/home/jhummel/sim/stampede/vanilla/snapshot_351.hdf5',\n",
       " 352: '/home/jhummel/sim/stampede/vanilla/snapshot_352.hdf5',\n",
       " 353: '/home/jhummel/sim/stampede/vanilla/snapshot_353.hdf5',\n",
       " 354: '/home/jhummel/sim/stampede/vanilla/snapshot_354.hdf5',\n",
       " 355: '/home/jhummel/sim/stampede/vanilla/snapshot_355.hdf5',\n",
       " 356: '/home/jhummel/sim/stampede/vanilla/snapshot_356.hdf5',\n",
       " 357: '/home/jhummel/sim/stampede/vanilla/snapshot_357.hdf5',\n",
       " 358: '/home/jhummel/sim/stampede/vanilla/snapshot_358.hdf5',\n",
       " 359: '/home/jhummel/sim/stampede/vanilla/snapshot_359.hdf5',\n",
       " 360: '/home/jhummel/sim/stampede/vanilla/snapshot_360.hdf5',\n",
       " 361: '/home/jhummel/sim/stampede/vanilla/snapshot_361.hdf5',\n",
       " 362: '/home/jhummel/sim/stampede/vanilla/snapshot_362.hdf5',\n",
       " 363: '/home/jhummel/sim/stampede/vanilla/snapshot_363.hdf5',\n",
       " 364: '/home/jhummel/sim/stampede/vanilla/snapshot_364.hdf5',\n",
       " 365: '/home/jhummel/sim/stampede/vanilla/snapshot_365.hdf5',\n",
       " 370: '/home/jhummel/sim/stampede/vanilla/snapshot_370.hdf5',\n",
       " 380: '/home/jhummel/sim/stampede/vanilla/snapshot_380.hdf5',\n",
       " 390: '/home/jhummel/sim/stampede/vanilla/snapshot_390.hdf5',\n",
       " 400: '/home/jhummel/sim/stampede/vanilla/snapshot_400.hdf5',\n",
       " 410: '/home/jhummel/sim/stampede/vanilla/snapshot_410.hdf5',\n",
       " 420: '/home/jhummel/sim/stampede/vanilla/snapshot_420.hdf5',\n",
       " 430: '/home/jhummel/sim/stampede/vanilla/snapshot_430.hdf5',\n",
       " 440: '/home/jhummel/sim/stampede/vanilla/snapshot_440.hdf5',\n",
       " 450: '/home/jhummel/sim/stampede/vanilla/snapshot_450.hdf5',\n",
       " 460: '/home/jhummel/sim/stampede/vanilla/snapshot_460.hdf5',\n",
       " 470: '/home/jhummel/sim/stampede/vanilla/snapshot_470.hdf5',\n",
       " 480: '/home/jhummel/sim/stampede/vanilla/snapshot_480.hdf5',\n",
       " 490: '/home/jhummel/sim/stampede/vanilla/snapshot_490.hdf5',\n",
       " 500: '/home/jhummel/sim/stampede/vanilla/snapshot_500.hdf5',\n",
       " 510: '/home/jhummel/sim/stampede/vanilla/snapshot_510.hdf5',\n",
       " 520: '/home/jhummel/sim/stampede/vanilla/snapshot_520.hdf5',\n",
       " 530: '/home/jhummel/sim/stampede/vanilla/snapshot_530.hdf5',\n",
       " 540: '/home/jhummel/sim/stampede/vanilla/snapshot_540.hdf5',\n",
       " 550: '/home/jhummel/sim/stampede/vanilla/snapshot_550.hdf5',\n",
       " 560: '/home/jhummel/sim/stampede/vanilla/snapshot_560.hdf5',\n",
       " 570: '/home/jhummel/sim/stampede/vanilla/snapshot_570.hdf5',\n",
       " 580: '/home/jhummel/sim/stampede/vanilla/snapshot_580.hdf5',\n",
       " 590: '/home/jhummel/sim/stampede/vanilla/snapshot_590.hdf5',\n",
       " 600: '/home/jhummel/sim/stampede/vanilla/snapshot_600.hdf5',\n",
       " 610: '/home/jhummel/sim/stampede/vanilla/snapshot_610.hdf5',\n",
       " 615: '/home/jhummel/sim/stampede/vanilla/snapshot_615.hdf5',\n",
       " 616: '/home/jhummel/sim/stampede/vanilla/snapshot_616.hdf5',\n",
       " 620: '/home/jhummel/sim/stampede/vanilla/snapshot_620.hdf5',\n",
       " 630: '/home/jhummel/sim/stampede/vanilla/snapshot_630.hdf5',\n",
       " 640: '/home/jhummel/sim/stampede/vanilla/snapshot_640.hdf5',\n",
       " 650: '/home/jhummel/sim/stampede/vanilla/snapshot_650.hdf5',\n",
       " 660: '/home/jhummel/sim/stampede/vanilla/snapshot_660.hdf5',\n",
       " 665: '/home/jhummel/sim/stampede/vanilla/snapshot_665.hdf5',\n",
       " 670: '/home/jhummel/sim/stampede/vanilla/snapshot_670.hdf5',\n",
       " 680: '/home/jhummel/sim/stampede/vanilla/snapshot_680.hdf5',\n",
       " 690: '/home/jhummel/sim/stampede/vanilla/snapshot_690.hdf5',\n",
       " 700: '/home/jhummel/sim/stampede/vanilla/snapshot_700.hdf5',\n",
       " 710: '/home/jhummel/sim/stampede/vanilla/snapshot_710.hdf5',\n",
       " 720: '/home/jhummel/sim/stampede/vanilla/snapshot_720.hdf5',\n",
       " 730: '/home/jhummel/sim/stampede/vanilla/snapshot_730.hdf5',\n",
       " 740: '/home/jhummel/sim/stampede/vanilla/snapshot_740.hdf5',\n",
       " 750: '/home/jhummel/sim/stampede/vanilla/snapshot_750.hdf5',\n",
       " 760: '/home/jhummel/sim/stampede/vanilla/snapshot_760.hdf5',\n",
       " 770: '/home/jhummel/sim/stampede/vanilla/snapshot_770.hdf5',\n",
       " 780: '/home/jhummel/sim/stampede/vanilla/snapshot_780.hdf5',\n",
       " 790: '/home/jhummel/sim/stampede/vanilla/snapshot_790.hdf5',\n",
       " 800: '/home/jhummel/sim/stampede/vanilla/snapshot_800.hdf5',\n",
       " 810: '/home/jhummel/sim/stampede/vanilla/snapshot_810.hdf5',\n",
       " 820: '/home/jhummel/sim/stampede/vanilla/snapshot_820.hdf5',\n",
       " 830: '/home/jhummel/sim/stampede/vanilla/snapshot_830.hdf5',\n",
       " 840: '/home/jhummel/sim/stampede/vanilla/snapshot_840.hdf5',\n",
       " 850: '/home/jhummel/sim/stampede/vanilla/snapshot_850.hdf5',\n",
       " 860: '/home/jhummel/sim/stampede/vanilla/snapshot_860.hdf5',\n",
       " 870: '/home/jhummel/sim/stampede/vanilla/snapshot_870.hdf5',\n",
       " 880: '/home/jhummel/sim/stampede/vanilla/snapshot_880.hdf5',\n",
       " 890: '/home/jhummel/sim/stampede/vanilla/snapshot_890.hdf5',\n",
       " 900: '/home/jhummel/sim/stampede/vanilla/snapshot_900.hdf5',\n",
       " 910: '/home/jhummel/sim/stampede/vanilla/snapshot_910.hdf5',\n",
       " 920: '/home/jhummel/sim/stampede/vanilla/snapshot_920.hdf5',\n",
       " 930: '/home/jhummel/sim/stampede/vanilla/snapshot_930.hdf5',\n",
       " 940: '/home/jhummel/sim/stampede/vanilla/snapshot_940.hdf5',\n",
       " 950: '/home/jhummel/sim/stampede/vanilla/snapshot_950.hdf5',\n",
       " 960: '/home/jhummel/sim/stampede/vanilla/snapshot_960.hdf5',\n",
       " 970: '/home/jhummel/sim/stampede/vanilla/snapshot_970.hdf5',\n",
       " 974: '/home/jhummel/sim/stampede/vanilla/snapshot_974.hdf5',\n",
       " 980: '/home/jhummel/sim/stampede/vanilla/snapshot_980.hdf5',\n",
       " 990: '/home/jhummel/sim/stampede/vanilla/snapshot_990.hdf5',\n",
       " 1000: '/home/jhummel/sim/stampede/vanilla/snapshot_1000.hdf5',\n",
       " 1010: '/home/jhummel/sim/stampede/vanilla/snapshot_1010.hdf5',\n",
       " 1020: '/home/jhummel/sim/stampede/vanilla/snapshot_1020.hdf5',\n",
       " 1030: '/home/jhummel/sim/stampede/vanilla/snapshot_1030.hdf5',\n",
       " 1040: '/home/jhummel/sim/stampede/vanilla/snapshot_1040.hdf5',\n",
       " 1050: '/home/jhummel/sim/stampede/vanilla/snapshot_1050.hdf5',\n",
       " 1060: '/home/jhummel/sim/stampede/vanilla/snapshot_1060.hdf5',\n",
       " 1070: '/home/jhummel/sim/stampede/vanilla/snapshot_1070.hdf5',\n",
       " 1080: '/home/jhummel/sim/stampede/vanilla/snapshot_1080.hdf5',\n",
       " 1090: '/home/jhummel/sim/stampede/vanilla/snapshot_1090.hdf5',\n",
       " 1100: '/home/jhummel/sim/stampede/vanilla/snapshot_1100.hdf5',\n",
       " 1110: '/home/jhummel/sim/stampede/vanilla/snapshot_1110.hdf5',\n",
       " 1120: '/home/jhummel/sim/stampede/vanilla/snapshot_1120.hdf5',\n",
       " 1128: '/home/jhummel/sim/stampede/vanilla/snapshot_1128.hdf5',\n",
       " 1130: '/home/jhummel/sim/stampede/vanilla/snapshot_1130.hdf5',\n",
       " 1140: '/home/jhummel/sim/stampede/vanilla/snapshot_1140.hdf5',\n",
       " 1150: '/home/jhummel/sim/stampede/vanilla/snapshot_1150.hdf5',\n",
       " 1160: '/home/jhummel/sim/stampede/vanilla/snapshot_1160.hdf5',\n",
       " 1170: '/home/jhummel/sim/stampede/vanilla/snapshot_1170.hdf5',\n",
       " 1180: '/home/jhummel/sim/stampede/vanilla/snapshot_1180.hdf5',\n",
       " 1190: '/home/jhummel/sim/stampede/vanilla/snapshot_1190.hdf5',\n",
       " 1200: '/home/jhummel/sim/stampede/vanilla/snapshot_1200.hdf5',\n",
       " 1210: '/home/jhummel/sim/stampede/vanilla/snapshot_1210.hdf5',\n",
       " 1220: '/home/jhummel/sim/stampede/vanilla/snapshot_1220.hdf5',\n",
       " 1230: '/home/jhummel/sim/stampede/vanilla/snapshot_1230.hdf5',\n",
       " 1240: '/home/jhummel/sim/stampede/vanilla/snapshot_1240.hdf5',\n",
       " 1250: '/home/jhummel/sim/stampede/vanilla/snapshot_1250.hdf5',\n",
       " 1260: '/home/jhummel/sim/stampede/vanilla/snapshot_1260.hdf5',\n",
       " 1270: '/home/jhummel/sim/stampede/vanilla/snapshot_1270.hdf5',\n",
       " 1280: '/home/jhummel/sim/stampede/vanilla/snapshot_1280.hdf5',\n",
       " 1283: '/home/jhummel/sim/stampede/vanilla/snapshot_1283.hdf5',\n",
       " 1290: '/home/jhummel/sim/stampede/vanilla/snapshot_1290.hdf5',\n",
       " 1300: '/home/jhummel/sim/stampede/vanilla/snapshot_1300.hdf5',\n",
       " 1310: '/home/jhummel/sim/stampede/vanilla/snapshot_1310.hdf5',\n",
       " 1320: '/home/jhummel/sim/stampede/vanilla/snapshot_1320.hdf5',\n",
       " 1330: '/home/jhummel/sim/stampede/vanilla/snapshot_1330.hdf5',\n",
       " 1340: '/home/jhummel/sim/stampede/vanilla/snapshot_1340.hdf5',\n",
       " 1350: '/home/jhummel/sim/stampede/vanilla/snapshot_1350.hdf5',\n",
       " 1360: '/home/jhummel/sim/stampede/vanilla/snapshot_1360.hdf5',\n",
       " 1370: '/home/jhummel/sim/stampede/vanilla/snapshot_1370.hdf5',\n",
       " 1380: '/home/jhummel/sim/stampede/vanilla/snapshot_1380.hdf5',\n",
       " 1390: '/home/jhummel/sim/stampede/vanilla/snapshot_1390.hdf5',\n",
       " 1400: '/home/jhummel/sim/stampede/vanilla/snapshot_1400.hdf5',\n",
       " 1410: '/home/jhummel/sim/stampede/vanilla/snapshot_1410.hdf5',\n",
       " 1420: '/home/jhummel/sim/stampede/vanilla/snapshot_1420.hdf5',\n",
       " 1430: '/home/jhummel/sim/stampede/vanilla/snapshot_1430.hdf5',\n",
       " 1437: '/home/jhummel/sim/stampede/vanilla/snapshot_1437.hdf5',\n",
       " 1440: '/home/jhummel/sim/stampede/vanilla/snapshot_1440.hdf5',\n",
       " 1450: '/home/jhummel/sim/stampede/vanilla/snapshot_1450.hdf5',\n",
       " 1460: '/home/jhummel/sim/stampede/vanilla/snapshot_1460.hdf5',\n",
       " 1470: '/home/jhummel/sim/stampede/vanilla/snapshot_1470.hdf5',\n",
       " 1480: '/home/jhummel/sim/stampede/vanilla/snapshot_1480.hdf5',\n",
       " 1490: '/home/jhummel/sim/stampede/vanilla/snapshot_1490.hdf5',\n",
       " 1500: '/home/jhummel/sim/stampede/vanilla/snapshot_1500.hdf5',\n",
       " 1510: '/home/jhummel/sim/stampede/vanilla/snapshot_1510.hdf5',\n",
       " 1520: '/home/jhummel/sim/stampede/vanilla/snapshot_1520.hdf5',\n",
       " 1530: '/home/jhummel/sim/stampede/vanilla/snapshot_1530.hdf5',\n",
       " 1540: '/home/jhummel/sim/stampede/vanilla/snapshot_1540.hdf5',\n",
       " 1550: '/home/jhummel/sim/stampede/vanilla/snapshot_1550.hdf5',\n",
       " 1560: '/home/jhummel/sim/stampede/vanilla/snapshot_1560.hdf5',\n",
       " 1570: '/home/jhummel/sim/stampede/vanilla/snapshot_1570.hdf5',\n",
       " 1580: '/home/jhummel/sim/stampede/vanilla/snapshot_1580.hdf5',\n",
       " 1590: '/home/jhummel/sim/stampede/vanilla/snapshot_1590.hdf5',\n",
       " 1592: '/home/jhummel/sim/stampede/vanilla/snapshot_1592.hdf5',\n",
       " 1600: '/home/jhummel/sim/stampede/vanilla/snapshot_1600.hdf5',\n",
       " 1610: '/home/jhummel/sim/stampede/vanilla/snapshot_1610.hdf5',\n",
       " 1620: '/home/jhummel/sim/stampede/vanilla/snapshot_1620.hdf5',\n",
       " 1630: '/home/jhummel/sim/stampede/vanilla/snapshot_1630.hdf5',\n",
       " 1640: '/home/jhummel/sim/stampede/vanilla/snapshot_1640.hdf5',\n",
       " 1650: '/home/jhummel/sim/stampede/vanilla/snapshot_1650.hdf5',\n",
       " 1660: '/home/jhummel/sim/stampede/vanilla/snapshot_1660.hdf5',\n",
       " 1670: '/home/jhummel/sim/stampede/vanilla/snapshot_1670.hdf5',\n",
       " 1680: '/home/jhummel/sim/stampede/vanilla/snapshot_1680.hdf5',\n",
       " 1690: '/home/jhummel/sim/stampede/vanilla/snapshot_1690.hdf5',\n",
       " 1700: '/home/jhummel/sim/stampede/vanilla/snapshot_1700.hdf5',\n",
       " 1710: '/home/jhummel/sim/stampede/vanilla/snapshot_1710.hdf5',\n",
       " 1720: '/home/jhummel/sim/stampede/vanilla/snapshot_1720.hdf5',\n",
       " 1730: '/home/jhummel/sim/stampede/vanilla/snapshot_1730.hdf5',\n",
       " 1740: '/home/jhummel/sim/stampede/vanilla/snapshot_1740.hdf5',\n",
       " 1750: '/home/jhummel/sim/stampede/vanilla/snapshot_1750.hdf5',\n",
       " 1900: '/home/jhummel/sim/stampede/vanilla/snapshot_1900.hdf5'}"
      ]
     },
     "execution_count": 3,
     "metadata": {},
     "output_type": "execute_result"
    }
   ],
   "source": [
    "sim.snapfiles"
   ]
  },
  {
   "cell_type": "markdown",
   "metadata": {},
   "source": [
    "#####Open a snapshot file"
   ]
  },
  {
   "cell_type": "code",
   "execution_count": 4,
   "metadata": {
    "collapsed": true
   },
   "outputs": [],
   "source": [
    "snap = sim.load_snapshot(1900)"
   ]
  },
  {
   "cell_type": "markdown",
   "metadata": {},
   "source": [
    "#####Inspect header"
   ]
  },
  {
   "cell_type": "code",
   "execution_count": 5,
   "metadata": {
    "collapsed": false
   },
   "outputs": [
    {
     "name": "stdout",
     "output_type": "stream",
     "text": [
      "NumPart_ThisFile\n",
      "Flag_Entropy_ICs\n",
      "Flag_Sfr\n",
      "MassTable\n",
      "Omega0\n",
      "Redshift\n",
      "NumPart_Total_HW\n",
      "Flag_StellarAge\n",
      "BoxSize\n",
      "HubbleParam\n",
      "Time\n",
      "Flag_Feedback\n",
      "Flag_Metals\n",
      "OmegaLambda\n",
      "ScaleFactor\n",
      "NumPart_Total\n",
      "Flag_Cooling\n",
      "NumFilesPerSnapshot\n"
     ]
    }
   ],
   "source": [
    "snap.header.keys()"
   ]
  },
  {
   "cell_type": "markdown",
   "metadata": {},
   "source": [
    "#####No data has been loaded yet"
   ]
  },
  {
   "cell_type": "code",
   "execution_count": 6,
   "metadata": {
    "collapsed": false
   },
   "outputs": [
    {
     "name": "stdout",
     "output_type": "stream",
     "text": [
      "<class 'pyGadget.nbody.PartTypeNbody'>\n",
      "Int64Index: 13347573 entries, 25272898 to 25273026\n",
      "Empty PartTypeNbody"
     ]
    }
   ],
   "source": [
    "snap.dm.info()"
   ]
  },
  {
   "cell_type": "code",
   "execution_count": 7,
   "metadata": {
    "collapsed": false
   },
   "outputs": [
    {
     "name": "stdout",
     "output_type": "stream",
     "text": [
      "<class 'pyGadget.sph.PartTypeSPH'>\n",
      "Int64Index: 13344804 entries, 23308526 to 23308525\n",
      "Empty PartTypeSPH"
     ]
    }
   ],
   "source": [
    "snap.gas.info()"
   ]
  },
  {
   "cell_type": "markdown",
   "metadata": {},
   "source": [
    "#####Load data"
   ]
  },
  {
   "cell_type": "code",
   "execution_count": 8,
   "metadata": {
    "collapsed": false
   },
   "outputs": [],
   "source": [
    "snap.gas.load_masses()"
   ]
  },
  {
   "cell_type": "code",
   "execution_count": 9,
   "metadata": {
    "collapsed": false
   },
   "outputs": [
    {
     "data": {
      "text/html": [
       "<div>\n",
       "<table border=\"1\" class=\"dataframe\">\n",
       "  <thead>\n",
       "    <tr style=\"text-align: right;\">\n",
       "      <th></th>\n",
       "      <th>masses</th>\n",
       "    </tr>\n",
       "  </thead>\n",
       "  <tbody>\n",
       "    <tr>\n",
       "      <th>23308526</th>\n",
       "      <td>7.562637</td>\n",
       "    </tr>\n",
       "    <tr>\n",
       "      <th>23308654</th>\n",
       "      <td>7.562637</td>\n",
       "    </tr>\n",
       "    <tr>\n",
       "      <th>23324910</th>\n",
       "      <td>7.562637</td>\n",
       "    </tr>\n",
       "    <tr>\n",
       "      <th>23324911</th>\n",
       "      <td>7.562637</td>\n",
       "    </tr>\n",
       "    <tr>\n",
       "      <th>23308399</th>\n",
       "      <td>7.562637</td>\n",
       "    </tr>\n",
       "  </tbody>\n",
       "</table>\n",
       "</div>"
      ],
      "text/plain": [
       "            masses\n",
       "23308526  7.562637\n",
       "23308654  7.562637\n",
       "23324910  7.562637\n",
       "23324911  7.562637\n",
       "23308399  7.562637"
      ]
     },
     "execution_count": 9,
     "metadata": {},
     "output_type": "execute_result"
    }
   ],
   "source": [
    "snap.gas.head()"
   ]
  },
  {
   "cell_type": "code",
   "execution_count": 10,
   "metadata": {
    "collapsed": false
   },
   "outputs": [
    {
     "name": "stdout",
     "output_type": "stream",
     "text": [
      "Loading data...\n"
     ]
    }
   ],
   "source": [
    "snap.gas.load_data('coordinates', 'velocities')"
   ]
  },
  {
   "cell_type": "code",
   "execution_count": 11,
   "metadata": {
    "collapsed": false,
    "scrolled": true
   },
   "outputs": [
    {
     "data": {
      "text/html": [
       "<div>\n",
       "<table border=\"1\" class=\"dataframe\">\n",
       "  <thead>\n",
       "    <tr style=\"text-align: right;\">\n",
       "      <th></th>\n",
       "      <th>masses</th>\n",
       "      <th>x</th>\n",
       "      <th>y</th>\n",
       "      <th>z</th>\n",
       "      <th>u</th>\n",
       "      <th>v</th>\n",
       "      <th>w</th>\n",
       "    </tr>\n",
       "  </thead>\n",
       "  <tbody>\n",
       "    <tr>\n",
       "      <th>23308526</th>\n",
       "      <td>7.562637</td>\n",
       "      <td>0.012252</td>\n",
       "      <td>0.027794</td>\n",
       "      <td>0.033412</td>\n",
       "      <td>1.686213</td>\n",
       "      <td>0.212638</td>\n",
       "      <td>-1.577312</td>\n",
       "    </tr>\n",
       "    <tr>\n",
       "      <th>23308654</th>\n",
       "      <td>7.562637</td>\n",
       "      <td>0.015323</td>\n",
       "      <td>0.076598</td>\n",
       "      <td>0.024883</td>\n",
       "      <td>1.708026</td>\n",
       "      <td>0.254670</td>\n",
       "      <td>-1.619833</td>\n",
       "    </tr>\n",
       "    <tr>\n",
       "      <th>23324910</th>\n",
       "      <td>7.562637</td>\n",
       "      <td>0.062324</td>\n",
       "      <td>0.031242</td>\n",
       "      <td>0.024979</td>\n",
       "      <td>1.724616</td>\n",
       "      <td>0.241391</td>\n",
       "      <td>-1.622586</td>\n",
       "    </tr>\n",
       "    <tr>\n",
       "      <th>23324911</th>\n",
       "      <td>7.562637</td>\n",
       "      <td>0.060050</td>\n",
       "      <td>0.074773</td>\n",
       "      <td>0.082632</td>\n",
       "      <td>1.711199</td>\n",
       "      <td>0.238528</td>\n",
       "      <td>-1.564868</td>\n",
       "    </tr>\n",
       "    <tr>\n",
       "      <th>23308399</th>\n",
       "      <td>7.562637</td>\n",
       "      <td>0.005334</td>\n",
       "      <td>0.026449</td>\n",
       "      <td>0.087876</td>\n",
       "      <td>1.642938</td>\n",
       "      <td>0.195595</td>\n",
       "      <td>-1.500887</td>\n",
       "    </tr>\n",
       "  </tbody>\n",
       "</table>\n",
       "</div>"
      ],
      "text/plain": [
       "            masses         x         y         z         u         v         w\n",
       "23308526  7.562637  0.012252  0.027794  0.033412  1.686213  0.212638 -1.577312\n",
       "23308654  7.562637  0.015323  0.076598  0.024883  1.708026  0.254670 -1.619833\n",
       "23324910  7.562637  0.062324  0.031242  0.024979  1.724616  0.241391 -1.622586\n",
       "23324911  7.562637  0.060050  0.074773  0.082632  1.711199  0.238528 -1.564868\n",
       "23308399  7.562637  0.005334  0.026449  0.087876  1.642938  0.195595 -1.500887"
      ]
     },
     "execution_count": 11,
     "metadata": {},
     "output_type": "execute_result"
    }
   ],
   "source": [
    "snap.gas.head()"
   ]
  },
  {
   "cell_type": "markdown",
   "metadata": {},
   "source": [
    "#####Can load any quantity that exists in hdf5 file by name -- just don't get any conversions unless a load function for that field is defined."
   ]
  },
  {
   "cell_type": "raw",
   "metadata": {},
   "source": [
    "snap.gas.load_quantity('XXX')           [instead of snap.gas.load_XXX()]"
   ]
  },
  {
   "cell_type": "code",
   "execution_count": 12,
   "metadata": {
    "collapsed": false
   },
   "outputs": [
    {
     "name": "stdout",
     "output_type": "stream",
     "text": [
      "<class 'pyGadget.sph.PartTypeSPH'>\n",
      "Int64Index: 13344804 entries, 23308526 to 23308525\n",
      "Data columns (total 7 columns):\n",
      "masses    float64\n",
      "x         float64\n",
      "y         float64\n",
      "z         float64\n",
      "u         float64\n",
      "v         float64\n",
      "w         float64\n",
      "dtypes: float64(7)\n",
      "memory usage: 814.5 MB\n"
     ]
    }
   ],
   "source": [
    "snap.gas.info()"
   ]
  },
  {
   "cell_type": "markdown",
   "metadata": {},
   "source": [
    "#####Refine the dataset --- can define your own refinement criterion as well."
   ]
  },
  {
   "cell_type": "code",
   "execution_count": 13,
   "metadata": {
    "collapsed": false
   },
   "outputs": [
    {
     "name": "stdout",
     "output_type": "stream",
     "text": [
      "Loading data...\n",
      "7997231 particles selected.\n"
     ]
    }
   ],
   "source": [
    "snap.gas.refine_dataset()"
   ]
  },
  {
   "cell_type": "code",
   "execution_count": 14,
   "metadata": {
    "collapsed": false
   },
   "outputs": [
    {
     "name": "stdout",
     "output_type": "stream",
     "text": [
      "<class 'pyGadget.sph.PartTypeSPH'>\n",
      "Int64Index: 7997231 entries, 1370050 to 3238144\n",
      "Data columns (total 8 columns):\n",
      "masses        float64\n",
      "x             float64\n",
      "y             float64\n",
      "z             float64\n",
      "u             float64\n",
      "v             float64\n",
      "w             float64\n",
      "sink_value    float64\n",
      "dtypes: float64(8)\n",
      "memory usage: 549.1 MB\n"
     ]
    }
   ],
   "source": [
    "snap.gas.info()"
   ]
  },
  {
   "cell_type": "code",
   "execution_count": 15,
   "metadata": {
    "collapsed": false,
    "scrolled": true
   },
   "outputs": [
    {
     "data": {
      "text/html": [
       "<div>\n",
       "<table border=\"1\" class=\"dataframe\">\n",
       "  <thead>\n",
       "    <tr style=\"text-align: right;\">\n",
       "      <th></th>\n",
       "      <th>masses</th>\n",
       "      <th>x</th>\n",
       "      <th>y</th>\n",
       "      <th>z</th>\n",
       "      <th>u</th>\n",
       "      <th>v</th>\n",
       "      <th>w</th>\n",
       "      <th>sink_value</th>\n",
       "    </tr>\n",
       "  </thead>\n",
       "  <tbody>\n",
       "    <tr>\n",
       "      <th>1370050</th>\n",
       "      <td>0.014771</td>\n",
       "      <td>2.402798</td>\n",
       "      <td>2.449727</td>\n",
       "      <td>2.398823</td>\n",
       "      <td>-0.026848</td>\n",
       "      <td>-0.004236</td>\n",
       "      <td>1.478154</td>\n",
       "      <td>0</td>\n",
       "    </tr>\n",
       "    <tr>\n",
       "      <th>1676858</th>\n",
       "      <td>0.014771</td>\n",
       "      <td>2.403926</td>\n",
       "      <td>2.451056</td>\n",
       "      <td>2.399600</td>\n",
       "      <td>-0.040739</td>\n",
       "      <td>0.129503</td>\n",
       "      <td>1.595052</td>\n",
       "      <td>0</td>\n",
       "    </tr>\n",
       "    <tr>\n",
       "      <th>1676859</th>\n",
       "      <td>0.014771</td>\n",
       "      <td>2.406050</td>\n",
       "      <td>2.447813</td>\n",
       "      <td>2.399705</td>\n",
       "      <td>0.017033</td>\n",
       "      <td>0.173067</td>\n",
       "      <td>1.377697</td>\n",
       "      <td>0</td>\n",
       "    </tr>\n",
       "    <tr>\n",
       "      <th>1676857</th>\n",
       "      <td>0.014771</td>\n",
       "      <td>2.406361</td>\n",
       "      <td>2.448209</td>\n",
       "      <td>2.397392</td>\n",
       "      <td>-0.113200</td>\n",
       "      <td>0.177578</td>\n",
       "      <td>1.418303</td>\n",
       "      <td>0</td>\n",
       "    </tr>\n",
       "    <tr>\n",
       "      <th>1676921</th>\n",
       "      <td>0.014771</td>\n",
       "      <td>2.407348</td>\n",
       "      <td>2.445131</td>\n",
       "      <td>2.395664</td>\n",
       "      <td>-0.192756</td>\n",
       "      <td>0.136574</td>\n",
       "      <td>1.681047</td>\n",
       "      <td>0</td>\n",
       "    </tr>\n",
       "  </tbody>\n",
       "</table>\n",
       "</div>"
      ],
      "text/plain": [
       "           masses         x         y         z         u         v         w  \\\n",
       "1370050  0.014771  2.402798  2.449727  2.398823 -0.026848 -0.004236  1.478154   \n",
       "1676858  0.014771  2.403926  2.451056  2.399600 -0.040739  0.129503  1.595052   \n",
       "1676859  0.014771  2.406050  2.447813  2.399705  0.017033  0.173067  1.377697   \n",
       "1676857  0.014771  2.406361  2.448209  2.397392 -0.113200  0.177578  1.418303   \n",
       "1676921  0.014771  2.407348  2.445131  2.395664 -0.192756  0.136574  1.681047   \n",
       "\n",
       "         sink_value  \n",
       "1370050           0  \n",
       "1676858           0  \n",
       "1676859           0  \n",
       "1676857           0  \n",
       "1676921           0  "
      ]
     },
     "execution_count": 15,
     "metadata": {},
     "output_type": "execute_result"
    }
   ],
   "source": [
    "snap.gas.head()"
   ]
  },
  {
   "cell_type": "markdown",
   "metadata": {},
   "source": [
    "##### Can load derived fields too"
   ]
  },
  {
   "cell_type": "code",
   "execution_count": 16,
   "metadata": {
    "collapsed": false
   },
   "outputs": [],
   "source": [
    "T = snap.gas.get_temperature()"
   ]
  },
  {
   "cell_type": "code",
   "execution_count": 17,
   "metadata": {
    "collapsed": false
   },
   "outputs": [
    {
     "data": {
      "text/html": [
       "<div>\n",
       "<table border=\"1\" class=\"dataframe\">\n",
       "  <thead>\n",
       "    <tr style=\"text-align: right;\">\n",
       "      <th></th>\n",
       "      <th>masses</th>\n",
       "      <th>x</th>\n",
       "      <th>y</th>\n",
       "      <th>z</th>\n",
       "      <th>u</th>\n",
       "      <th>v</th>\n",
       "      <th>w</th>\n",
       "      <th>sink_value</th>\n",
       "      <th>adiabatic_index</th>\n",
       "      <th>internal_energy</th>\n",
       "      <th>H2</th>\n",
       "      <th>HII</th>\n",
       "      <th>DII</th>\n",
       "      <th>HD</th>\n",
       "      <th>HeII</th>\n",
       "      <th>HeIII</th>\n",
       "      <th>h2frac</th>\n",
       "      <th>temperature</th>\n",
       "    </tr>\n",
       "  </thead>\n",
       "  <tbody>\n",
       "    <tr>\n",
       "      <th>1370050</th>\n",
       "      <td>0.014771</td>\n",
       "      <td>2.402798</td>\n",
       "      <td>2.449727</td>\n",
       "      <td>2.398823</td>\n",
       "      <td>-0.026848</td>\n",
       "      <td>-0.004236</td>\n",
       "      <td>1.478154</td>\n",
       "      <td>0</td>\n",
       "      <td>1.666666</td>\n",
       "      <td>1.812440e+09</td>\n",
       "      <td>0.000001</td>\n",
       "      <td>0.000206</td>\n",
       "      <td>4.841983e-10</td>\n",
       "      <td>1.104843e-09</td>\n",
       "      <td>0</td>\n",
       "      <td>0</td>\n",
       "      <td>0.000003</td>\n",
       "      <td>17.851837</td>\n",
       "    </tr>\n",
       "    <tr>\n",
       "      <th>1676858</th>\n",
       "      <td>0.014771</td>\n",
       "      <td>2.403926</td>\n",
       "      <td>2.451056</td>\n",
       "      <td>2.399600</td>\n",
       "      <td>-0.040739</td>\n",
       "      <td>0.129503</td>\n",
       "      <td>1.595052</td>\n",
       "      <td>0</td>\n",
       "      <td>1.666666</td>\n",
       "      <td>1.827316e+09</td>\n",
       "      <td>0.000001</td>\n",
       "      <td>0.000209</td>\n",
       "      <td>5.023241e-10</td>\n",
       "      <td>1.116274e-09</td>\n",
       "      <td>0</td>\n",
       "      <td>0</td>\n",
       "      <td>0.000003</td>\n",
       "      <td>17.998364</td>\n",
       "    </tr>\n",
       "    <tr>\n",
       "      <th>1676859</th>\n",
       "      <td>0.014771</td>\n",
       "      <td>2.406050</td>\n",
       "      <td>2.447813</td>\n",
       "      <td>2.399705</td>\n",
       "      <td>0.017033</td>\n",
       "      <td>0.173067</td>\n",
       "      <td>1.377697</td>\n",
       "      <td>0</td>\n",
       "      <td>1.666666</td>\n",
       "      <td>1.615905e+09</td>\n",
       "      <td>0.000001</td>\n",
       "      <td>0.000212</td>\n",
       "      <td>3.656540e-10</td>\n",
       "      <td>1.104804e-09</td>\n",
       "      <td>0</td>\n",
       "      <td>0</td>\n",
       "      <td>0.000003</td>\n",
       "      <td>15.916042</td>\n",
       "    </tr>\n",
       "    <tr>\n",
       "      <th>1676857</th>\n",
       "      <td>0.014771</td>\n",
       "      <td>2.406361</td>\n",
       "      <td>2.448209</td>\n",
       "      <td>2.397392</td>\n",
       "      <td>-0.113200</td>\n",
       "      <td>0.177578</td>\n",
       "      <td>1.418303</td>\n",
       "      <td>0</td>\n",
       "      <td>1.666666</td>\n",
       "      <td>1.804781e+09</td>\n",
       "      <td>0.000002</td>\n",
       "      <td>0.000206</td>\n",
       "      <td>4.777825e-10</td>\n",
       "      <td>1.114946e-09</td>\n",
       "      <td>0</td>\n",
       "      <td>0</td>\n",
       "      <td>0.000003</td>\n",
       "      <td>17.776396</td>\n",
       "    </tr>\n",
       "    <tr>\n",
       "      <th>1676921</th>\n",
       "      <td>0.014771</td>\n",
       "      <td>2.407348</td>\n",
       "      <td>2.445131</td>\n",
       "      <td>2.395664</td>\n",
       "      <td>-0.192756</td>\n",
       "      <td>0.136574</td>\n",
       "      <td>1.681047</td>\n",
       "      <td>0</td>\n",
       "      <td>1.666666</td>\n",
       "      <td>2.041451e+09</td>\n",
       "      <td>0.000002</td>\n",
       "      <td>0.000192</td>\n",
       "      <td>6.006858e-10</td>\n",
       "      <td>1.181345e-09</td>\n",
       "      <td>0</td>\n",
       "      <td>0</td>\n",
       "      <td>0.000003</td>\n",
       "      <td>20.107514</td>\n",
       "    </tr>\n",
       "  </tbody>\n",
       "</table>\n",
       "</div>"
      ],
      "text/plain": [
       "           masses         x         y         z         u         v         w  \\\n",
       "1370050  0.014771  2.402798  2.449727  2.398823 -0.026848 -0.004236  1.478154   \n",
       "1676858  0.014771  2.403926  2.451056  2.399600 -0.040739  0.129503  1.595052   \n",
       "1676859  0.014771  2.406050  2.447813  2.399705  0.017033  0.173067  1.377697   \n",
       "1676857  0.014771  2.406361  2.448209  2.397392 -0.113200  0.177578  1.418303   \n",
       "1676921  0.014771  2.407348  2.445131  2.395664 -0.192756  0.136574  1.681047   \n",
       "\n",
       "         sink_value  adiabatic_index  internal_energy        H2       HII  \\\n",
       "1370050           0         1.666666     1.812440e+09  0.000001  0.000206   \n",
       "1676858           0         1.666666     1.827316e+09  0.000001  0.000209   \n",
       "1676859           0         1.666666     1.615905e+09  0.000001  0.000212   \n",
       "1676857           0         1.666666     1.804781e+09  0.000002  0.000206   \n",
       "1676921           0         1.666666     2.041451e+09  0.000002  0.000192   \n",
       "\n",
       "                  DII            HD  HeII  HeIII    h2frac  temperature  \n",
       "1370050  4.841983e-10  1.104843e-09     0      0  0.000003    17.851837  \n",
       "1676858  5.023241e-10  1.116274e-09     0      0  0.000003    17.998364  \n",
       "1676859  3.656540e-10  1.104804e-09     0      0  0.000003    15.916042  \n",
       "1676857  4.777825e-10  1.114946e-09     0      0  0.000003    17.776396  \n",
       "1676921  6.006858e-10  1.181345e-09     0      0  0.000003    20.107514  "
      ]
     },
     "execution_count": 17,
     "metadata": {},
     "output_type": "execute_result"
    }
   ],
   "source": [
    "snap.gas.head()"
   ]
  },
  {
   "cell_type": "markdown",
   "metadata": {},
   "source": [
    "##### Newly loaded fields are indexed properly!"
   ]
  },
  {
   "cell_type": "code",
   "execution_count": 18,
   "metadata": {
    "collapsed": false
   },
   "outputs": [
    {
     "name": "stdout",
     "output_type": "stream",
     "text": [
      "<class 'pyGadget.sph.PartTypeSPH'>\n",
      "Int64Index: 7997231 entries, 1370050 to 3238144\n",
      "Data columns (total 18 columns):\n",
      "masses             float64\n",
      "x                  float64\n",
      "y                  float64\n",
      "z                  float64\n",
      "u                  float64\n",
      "v                  float64\n",
      "w                  float64\n",
      "sink_value         float64\n",
      "adiabatic_index    float64\n",
      "internal_energy    float64\n",
      "H2                 float64\n",
      "HII                float64\n",
      "DII                float64\n",
      "HD                 float64\n",
      "HeII               float64\n",
      "HeIII              float64\n",
      "h2frac             float64\n",
      "temperature        float64\n",
      "dtypes: float64(18)\n",
      "memory usage: 1.1 GB\n"
     ]
    }
   ],
   "source": [
    "snap.gas.info()"
   ]
  },
  {
   "cell_type": "markdown",
   "metadata": {},
   "source": [
    "#### Coordinate transformation available as well:"
   ]
  },
  {
   "cell_type": "code",
   "execution_count": 19,
   "metadata": {
    "collapsed": false
   },
   "outputs": [
    {
     "name": "stdout",
     "output_type": "stream",
     "text": [
      "Converting to spherical coordinates...\n"
     ]
    },
    {
     "data": {
      "text/html": [
       "<div>\n",
       "<table border=\"1\" class=\"dataframe\">\n",
       "  <thead>\n",
       "    <tr style=\"text-align: right;\">\n",
       "      <th></th>\n",
       "      <th>r_sph</th>\n",
       "      <th>theta_sph</th>\n",
       "      <th>phi_sph</th>\n",
       "    </tr>\n",
       "  </thead>\n",
       "  <tbody>\n",
       "    <tr>\n",
       "      <th>1370050</th>\n",
       "      <td>4.186759</td>\n",
       "      <td>0.960690</td>\n",
       "      <td>0.795069</td>\n",
       "    </tr>\n",
       "    <tr>\n",
       "      <th>1676858</th>\n",
       "      <td>4.188629</td>\n",
       "      <td>0.960776</td>\n",
       "      <td>0.795105</td>\n",
       "    </tr>\n",
       "    <tr>\n",
       "      <th>1676859</th>\n",
       "      <td>4.188013</td>\n",
       "      <td>0.960642</td>\n",
       "      <td>0.794002</td>\n",
       "    </tr>\n",
       "    <tr>\n",
       "      <th>1676857</th>\n",
       "      <td>4.187098</td>\n",
       "      <td>0.961163</td>\n",
       "      <td>0.794018</td>\n",
       "    </tr>\n",
       "    <tr>\n",
       "      <th>1676921</th>\n",
       "      <td>4.184877</td>\n",
       "      <td>0.961296</td>\n",
       "      <td>0.793184</td>\n",
       "    </tr>\n",
       "  </tbody>\n",
       "</table>\n",
       "</div>"
      ],
      "text/plain": [
       "            r_sph  theta_sph   phi_sph\n",
       "1370050  4.186759   0.960690  0.795069\n",
       "1676858  4.188629   0.960776  0.795105\n",
       "1676859  4.188013   0.960642  0.794002\n",
       "1676857  4.187098   0.961163  0.794018\n",
       "1676921  4.184877   0.961296  0.793184"
      ]
     },
     "execution_count": 19,
     "metadata": {},
     "output_type": "execute_result"
    }
   ],
   "source": [
    "snap.gas.get_coords(system='spherical').head()"
   ]
  },
  {
   "cell_type": "code",
   "execution_count": 20,
   "metadata": {
    "collapsed": false
   },
   "outputs": [
    {
     "data": {
      "text/html": [
       "<div>\n",
       "<table border=\"1\" class=\"dataframe\">\n",
       "  <thead>\n",
       "    <tr style=\"text-align: right;\">\n",
       "      <th></th>\n",
       "      <th>masses</th>\n",
       "      <th>x</th>\n",
       "      <th>y</th>\n",
       "      <th>z</th>\n",
       "      <th>u</th>\n",
       "      <th>v</th>\n",
       "      <th>w</th>\n",
       "      <th>sink_value</th>\n",
       "      <th>adiabatic_index</th>\n",
       "      <th>internal_energy</th>\n",
       "      <th>...</th>\n",
       "      <th>HII</th>\n",
       "      <th>DII</th>\n",
       "      <th>HD</th>\n",
       "      <th>HeII</th>\n",
       "      <th>HeIII</th>\n",
       "      <th>h2frac</th>\n",
       "      <th>temperature</th>\n",
       "      <th>r_sph</th>\n",
       "      <th>theta_sph</th>\n",
       "      <th>phi_sph</th>\n",
       "    </tr>\n",
       "  </thead>\n",
       "  <tbody>\n",
       "    <tr>\n",
       "      <th>1370050</th>\n",
       "      <td>0.014771</td>\n",
       "      <td>2.402798</td>\n",
       "      <td>2.449727</td>\n",
       "      <td>2.398823</td>\n",
       "      <td>-0.026848</td>\n",
       "      <td>-0.004236</td>\n",
       "      <td>1.478154</td>\n",
       "      <td>0</td>\n",
       "      <td>1.666666</td>\n",
       "      <td>1.812440e+09</td>\n",
       "      <td>...</td>\n",
       "      <td>0.000206</td>\n",
       "      <td>4.841983e-10</td>\n",
       "      <td>1.104843e-09</td>\n",
       "      <td>0</td>\n",
       "      <td>0</td>\n",
       "      <td>0.000003</td>\n",
       "      <td>17.851837</td>\n",
       "      <td>4.186759</td>\n",
       "      <td>0.960690</td>\n",
       "      <td>0.795069</td>\n",
       "    </tr>\n",
       "    <tr>\n",
       "      <th>1676858</th>\n",
       "      <td>0.014771</td>\n",
       "      <td>2.403926</td>\n",
       "      <td>2.451056</td>\n",
       "      <td>2.399600</td>\n",
       "      <td>-0.040739</td>\n",
       "      <td>0.129503</td>\n",
       "      <td>1.595052</td>\n",
       "      <td>0</td>\n",
       "      <td>1.666666</td>\n",
       "      <td>1.827316e+09</td>\n",
       "      <td>...</td>\n",
       "      <td>0.000209</td>\n",
       "      <td>5.023241e-10</td>\n",
       "      <td>1.116274e-09</td>\n",
       "      <td>0</td>\n",
       "      <td>0</td>\n",
       "      <td>0.000003</td>\n",
       "      <td>17.998364</td>\n",
       "      <td>4.188629</td>\n",
       "      <td>0.960776</td>\n",
       "      <td>0.795105</td>\n",
       "    </tr>\n",
       "    <tr>\n",
       "      <th>1676859</th>\n",
       "      <td>0.014771</td>\n",
       "      <td>2.406050</td>\n",
       "      <td>2.447813</td>\n",
       "      <td>2.399705</td>\n",
       "      <td>0.017033</td>\n",
       "      <td>0.173067</td>\n",
       "      <td>1.377697</td>\n",
       "      <td>0</td>\n",
       "      <td>1.666666</td>\n",
       "      <td>1.615905e+09</td>\n",
       "      <td>...</td>\n",
       "      <td>0.000212</td>\n",
       "      <td>3.656540e-10</td>\n",
       "      <td>1.104804e-09</td>\n",
       "      <td>0</td>\n",
       "      <td>0</td>\n",
       "      <td>0.000003</td>\n",
       "      <td>15.916042</td>\n",
       "      <td>4.188013</td>\n",
       "      <td>0.960642</td>\n",
       "      <td>0.794002</td>\n",
       "    </tr>\n",
       "    <tr>\n",
       "      <th>1676857</th>\n",
       "      <td>0.014771</td>\n",
       "      <td>2.406361</td>\n",
       "      <td>2.448209</td>\n",
       "      <td>2.397392</td>\n",
       "      <td>-0.113200</td>\n",
       "      <td>0.177578</td>\n",
       "      <td>1.418303</td>\n",
       "      <td>0</td>\n",
       "      <td>1.666666</td>\n",
       "      <td>1.804781e+09</td>\n",
       "      <td>...</td>\n",
       "      <td>0.000206</td>\n",
       "      <td>4.777825e-10</td>\n",
       "      <td>1.114946e-09</td>\n",
       "      <td>0</td>\n",
       "      <td>0</td>\n",
       "      <td>0.000003</td>\n",
       "      <td>17.776396</td>\n",
       "      <td>4.187098</td>\n",
       "      <td>0.961163</td>\n",
       "      <td>0.794018</td>\n",
       "    </tr>\n",
       "    <tr>\n",
       "      <th>1676921</th>\n",
       "      <td>0.014771</td>\n",
       "      <td>2.407348</td>\n",
       "      <td>2.445131</td>\n",
       "      <td>2.395664</td>\n",
       "      <td>-0.192756</td>\n",
       "      <td>0.136574</td>\n",
       "      <td>1.681047</td>\n",
       "      <td>0</td>\n",
       "      <td>1.666666</td>\n",
       "      <td>2.041451e+09</td>\n",
       "      <td>...</td>\n",
       "      <td>0.000192</td>\n",
       "      <td>6.006858e-10</td>\n",
       "      <td>1.181345e-09</td>\n",
       "      <td>0</td>\n",
       "      <td>0</td>\n",
       "      <td>0.000003</td>\n",
       "      <td>20.107514</td>\n",
       "      <td>4.184877</td>\n",
       "      <td>0.961296</td>\n",
       "      <td>0.793184</td>\n",
       "    </tr>\n",
       "  </tbody>\n",
       "</table>\n",
       "<p>5 rows × 21 columns</p>\n",
       "</div>"
      ],
      "text/plain": [
       "           masses         x         y         z         u         v         w  \\\n",
       "1370050  0.014771  2.402798  2.449727  2.398823 -0.026848 -0.004236  1.478154   \n",
       "1676858  0.014771  2.403926  2.451056  2.399600 -0.040739  0.129503  1.595052   \n",
       "1676859  0.014771  2.406050  2.447813  2.399705  0.017033  0.173067  1.377697   \n",
       "1676857  0.014771  2.406361  2.448209  2.397392 -0.113200  0.177578  1.418303   \n",
       "1676921  0.014771  2.407348  2.445131  2.395664 -0.192756  0.136574  1.681047   \n",
       "\n",
       "         sink_value  adiabatic_index  internal_energy    ...          HII  \\\n",
       "1370050           0         1.666666     1.812440e+09    ...     0.000206   \n",
       "1676858           0         1.666666     1.827316e+09    ...     0.000209   \n",
       "1676859           0         1.666666     1.615905e+09    ...     0.000212   \n",
       "1676857           0         1.666666     1.804781e+09    ...     0.000206   \n",
       "1676921           0         1.666666     2.041451e+09    ...     0.000192   \n",
       "\n",
       "                  DII            HD  HeII  HeIII    h2frac  temperature  \\\n",
       "1370050  4.841983e-10  1.104843e-09     0      0  0.000003    17.851837   \n",
       "1676858  5.023241e-10  1.116274e-09     0      0  0.000003    17.998364   \n",
       "1676859  3.656540e-10  1.104804e-09     0      0  0.000003    15.916042   \n",
       "1676857  4.777825e-10  1.114946e-09     0      0  0.000003    17.776396   \n",
       "1676921  6.006858e-10  1.181345e-09     0      0  0.000003    20.107514   \n",
       "\n",
       "            r_sph  theta_sph   phi_sph  \n",
       "1370050  4.186759   0.960690  0.795069  \n",
       "1676858  4.188629   0.960776  0.795105  \n",
       "1676859  4.188013   0.960642  0.794002  \n",
       "1676857  4.187098   0.961163  0.794018  \n",
       "1676921  4.184877   0.961296  0.793184  \n",
       "\n",
       "[5 rows x 21 columns]"
      ]
     },
     "execution_count": 20,
     "metadata": {},
     "output_type": "execute_result"
    }
   ],
   "source": [
    "snap.gas.head()"
   ]
  },
  {
   "cell_type": "markdown",
   "metadata": {},
   "source": [
    "#####Can cleanup un-needed fields to save memory"
   ]
  },
  {
   "cell_type": "code",
   "execution_count": 21,
   "metadata": {
    "collapsed": false,
    "scrolled": true
   },
   "outputs": [
    {
     "name": "stdout",
     "output_type": "stream",
     "text": [
      "<class 'pyGadget.sph.PartTypeSPH'>\n",
      "Int64Index: 7997231 entries, 1370050 to 3238144\n",
      "Data columns (total 2 columns):\n",
      "masses         float64\n",
      "temperature    float64\n",
      "dtypes: float64(2)\n",
      "memory usage: 183.0 MB\n"
     ]
    }
   ],
   "source": [
    "snap.gas.cleanup('masses', 'temperature')\n",
    "snap.gas.info()"
   ]
  },
  {
   "cell_type": "code",
   "execution_count": 22,
   "metadata": {
    "collapsed": true
   },
   "outputs": [],
   "source": [
    "snap.gas.cleanup()"
   ]
  }
 ],
 "metadata": {
  "kernelspec": {
   "display_name": "Python 2",
   "language": "python",
   "name": "python2"
  },
  "language_info": {
   "codemirror_mode": {
    "name": "ipython",
    "version": 2
   },
   "file_extension": ".py",
   "mimetype": "text/x-python",
   "name": "python",
   "nbconvert_exporter": "python",
   "pygments_lexer": "ipython2",
   "version": "2.7.10"
  }
 },
 "nbformat": 4,
 "nbformat_minor": 0
}
