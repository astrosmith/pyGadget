{
 "metadata": {
  "name": "",
  "signature": "sha256:5f8c6956d7f3b5be983a057cf6259c58cbedd6293423ce079de79b0b87999e38"
 },
 "nbformat": 3,
 "nbformat_minor": 0,
 "worksheets": [
  {
   "cells": [
    {
     "cell_type": "code",
     "collapsed": false,
     "input": [
      "from IPython.display import HTML\n",
      "\n",
      "raw_code = \"\"\"\n",
      "<h1>Oh yeah, HTML</h1>\n",
      "<script type=\"text/javascript\">\n",
      "var kernel = IPython.notebook.kernel;\n",
      "kernel.execute('!say \"hello eye python notebook fans\"');\n",
      "</script>\n",
      "\"\"\"\n",
      "HTML(raw_code)"
     ],
     "language": "python",
     "metadata": {},
     "outputs": []
    }
   ],
   "metadata": {}
  }
 ]
}