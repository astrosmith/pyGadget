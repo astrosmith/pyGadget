{
 "cells": [
  {
   "cell_type": "markdown",
   "metadata": {
    "slideshow": {
     "slide_type": "slide"
    }
   },
   "source": [
    "#PyGadget\n",
    "\n",
    "###A Framework for Analyzing GADGET Simulation Data in Pandas"
   ]
  },
  {
   "cell_type": "markdown",
   "metadata": {
    "slideshow": {
     "slide_type": "subslide"
    }
   },
   "source": [
    "##PyGadget is a python library for reading GADGET-HDF5 files into a pandas DataFrame.\n",
    "\n",
    "####Pandas is the de-facto standard for data analysis in python, with broad support across the scientific python ecosystem.\n",
    "* If we can painlessly get our data into pandas, we can more effectively leverage the rest of the tools in the ecosystem."
   ]
  },
  {
   "cell_type": "markdown",
   "metadata": {
    "slideshow": {
     "slide_type": "fragment"
    }
   },
   "source": [
    "###PyGadget is *NOT* a full-fledged astrophysical data analysis package like `yt` or `pynbody`."
   ]
  },
  {
   "cell_type": "markdown",
   "metadata": {
    "slideshow": {
     "slide_type": "slide"
    }
   },
   "source": [
    "#A little background..."
   ]
  },
  {
   "cell_type": "markdown",
   "metadata": {
    "slideshow": {
     "slide_type": "subslide"
    }
   },
   "source": [
    "#My ultimate goal is to understand how the first galaxies form.\n",
    "<div class=\"stretch\"><img src=\"images/jwst_austin.jpg\"/></div>\n",
    "Image Credit: Chris Gunn"
   ]
  },
  {
   "cell_type": "markdown",
   "metadata": {
    "slideshow": {
     "slide_type": "subslide"
    }
   },
   "source": [
    "#The first stars represent a bottleneck of sorts in the evolution of the Universe.\n",
    "* Their properties are sensitive to the initial conditions of the Universe.\n",
    "* They have an outsized impact on everything that happens after them."
   ]
  },
  {
   "cell_type": "markdown",
   "metadata": {
    "slideshow": {
     "slide_type": "fragment"
    }
   },
   "source": [
    "#This is a very hard problem covering (literally) an astronomical range of physical scales."
   ]
  },
  {
   "cell_type": "markdown",
   "metadata": {
    "slideshow": {
     "slide_type": "subslide"
    }
   },
   "source": [
    "#How do we get from this:\n",
    "<div class=\"stretch\"><img src=\"images/cmb.png\"/></div>"
   ]
  },
  {
   "cell_type": "markdown",
   "metadata": {
    "slideshow": {
     "slide_type": "subslide"
    }
   },
   "source": [
    "#To this?\n",
    "<div class=\"stretch\"><img src=\"images/stellar_cluster_NASA.jpg\"/></div>\n",
    "Image Credit: NASA"
   ]
  },
  {
   "cell_type": "markdown",
   "metadata": {
    "slideshow": {
     "slide_type": "subslide"
    }
   },
   "source": [
    "# Break one big complex problem into millions of small simple ones by discretizing the system in time and space.\n"
   ]
  },
  {
   "cell_type": "markdown",
   "metadata": {
    "slideshow": {
     "slide_type": "subslide"
    }
   },
   "source": [
    "##One way to do this is using a method called Smoothed-Particle Hydrodynamics"
   ]
  },
  {
   "cell_type": "code",
   "execution_count": 1,
   "metadata": {
    "collapsed": false,
    "scrolled": false,
    "slideshow": {
     "slide_type": "fragment"
    }
   },
   "outputs": [
    {
     "data": {
      "text/html": [
       "\n",
       "        <iframe\n",
       "            width=\"853\"\n",
       "            height=\"480\"\n",
       "            src=\"https://www.youtube.com/embed/N2Fah8RoX5M\"\n",
       "            frameborder=\"0\"\n",
       "            allowfullscreen\n",
       "        ></iframe>\n",
       "        "
      ],
      "text/plain": [
       "<IPython.lib.display.YouTubeVideo at 0x104456390>"
      ]
     },
     "execution_count": 1,
     "metadata": {},
     "output_type": "execute_result"
    }
   ],
   "source": [
    "from IPython.display import YouTubeVideo\n",
    "YouTubeVideo('N2Fah8RoX5M', width=853, height=480)"
   ]
  },
  {
   "cell_type": "markdown",
   "metadata": {
    "slideshow": {
     "slide_type": "skip"
    }
   },
   "source": [
    "<div class=\"stretch\"><img src=\"images/sph_water.jpg\"/></div>"
   ]
  },
  {
   "cell_type": "markdown",
   "metadata": {
    "slideshow": {
     "slide_type": "subslide"
    }
   },
   "source": [
    "# [GADGET-2](http://www.mpa-garching.mpg.de/gadget/)\n",
    "* Massively MPI parallel N-body + Smoothed-Particle Hydrodynamics code\n",
    "* Standard code written in C\n",
    "* Widely used to study a variety of astrophysical problems (mostly star/galaxy formation)\n",
    "* Simulations use from 100,000 to 10,000,000,000 particles depending on the problem.\n",
    "* Can take from 1,000 to 10,000,000 CPU hours\n",
    "* Produces regular snapshots (full system state) can be GBs to TBs in size.\n",
    "* Easily customizable, relatively speaking\n",
    "\n",
    "\n",
    "###### Snapshots are saved in HDF5 files, or a code-specific binary format"
   ]
  },
  {
   "cell_type": "markdown",
   "metadata": {
    "slideshow": {
     "slide_type": "fragment"
    }
   },
   "source": [
    "####My Simulations:\n",
    "* ~25,000,000 particles\n",
    "* 36-48 hours running on 256 cores (~10,000 CPU hours)\n",
    "* ~2000 snapshots of 2-3 GB, totalling ~5 TB"
   ]
  },
  {
   "cell_type": "markdown",
   "metadata": {
    "slideshow": {
     "slide_type": "subslide"
    }
   },
   "source": [
    "##### Stampede: 100,000-core supercomputer located at TACC, #7 in the world.\n",
    "<div class=\"stretch\"><img src=\"images/stampede.jpg\"/></div>"
   ]
  },
  {
   "cell_type": "markdown",
   "metadata": {
    "slideshow": {
     "slide_type": "slide"
    }
   },
   "source": [
    "##Now let's talk about the data...\n",
    "<div class=\"stretch\"><img src=\"images/bigdata.jpg\"/></div>"
   ]
  },
  {
   "cell_type": "markdown",
   "metadata": {
    "slideshow": {
     "slide_type": "subslide"
    }
   },
   "source": [
    "#GADGET snapshot files are composed of several HDF5 groups: \n",
    "###One for each particle type, plus a header.\n",
    "* `Header`: Necessary simulation metadata, stored as HDF5 attributes.\n",
    "* `PartType0`: Particle Type 0, typically gas (SPH particles)\n",
    "* `PartType1`: Particle Type 1, typically dark matter (N-body particles)\n",
    "* et cetera\n",
    "\n",
    "###Particle fields include:\n",
    "* Particle ID\n",
    "* Mass\n",
    "* Cordinates\n",
    "* Velocities\n",
    "\n",
    "\n",
    "* Density\n",
    "* Smoothing Length\n",
    "* Internal Energy\n",
    "* Adiabatic Index\n",
    "\n",
    "\n",
    "* `+` other custom fields"
   ]
  },
  {
   "cell_type": "markdown",
   "metadata": {
    "slideshow": {
     "slide_type": "subslide"
    }
   },
   "source": [
    "#Simulation data is often big, but not unmanageable. \n",
    "##PyGadget is designed with this sort of 'medium' data in mind.\n",
    "* HDF5 allows us to load only the data we're interested in.\n",
    "* Library is designed to refine the data as it is loaded\n",
    "* DataFrames help keep data aligned as we load, refine, and drop fields to save memory.\n",
    "* Parallel batch processing via `multiprocessing`"
   ]
  },
  {
   "cell_type": "markdown",
   "metadata": {
    "slideshow": {
     "slide_type": "fragment"
    }
   },
   "source": [
    "##PyGadget also provides tools for coordinate transformation...\n",
    "* Conversion from comoving to physical coordinates\n",
    "* Box centering\n",
    "* Rotation around arbitrary axes\n",
    "* Conversion to cylindrical/spherical coordinates"
   ]
  },
  {
   "cell_type": "markdown",
   "metadata": {
    "slideshow": {
     "slide_type": "fragment"
    }
   },
   "source": [
    "##And SPH visualization.\n",
    "* Primary routine written in C, paralellized with OpenMP, and wrapped using `scipy.weave`\n",
    "* Additional pure python routine JIT-compiled using Numba."
   ]
  },
  {
   "cell_type": "markdown",
   "metadata": {
    "slideshow": {
     "slide_type": "subslide"
    }
   },
   "source": [
    "<div class=\"stretch\"><img src=\"images/doitlive.jpg\"/></div>"
   ]
  },
  {
   "cell_type": "markdown",
   "metadata": {
    "slideshow": {
     "slide_type": "slide"
    }
   },
   "source": [
    "#PyGadget is available on github at:\n",
    "###github.com/hummel/pyGadget\n",
    "\n",
    "\n",
    "\n",
    "\n",
    "\n",
    "\n",
    "\n",
    "#Thank you!"
   ]
  }
 ],
 "metadata": {
  "celltoolbar": "Slideshow",
  "kernelspec": {
   "display_name": "Python 2",
   "language": "python",
   "name": "python2"
  },
  "language_info": {
   "codemirror_mode": {
    "name": "ipython",
    "version": 2
   },
   "file_extension": ".py",
   "mimetype": "text/x-python",
   "name": "python",
   "nbconvert_exporter": "python",
   "pygments_lexer": "ipython2",
   "version": "2.7.10"
  }
 },
 "nbformat": 4,
 "nbformat_minor": 0
}
