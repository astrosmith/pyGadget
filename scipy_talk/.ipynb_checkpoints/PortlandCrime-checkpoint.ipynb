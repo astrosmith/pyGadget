{
 "metadata": {
  "name": "",
  "signature": "sha256:56f457fd6b50825a871d5da2bc543f80266e31e732bd923208f6b77f79f6f881"
 },
 "nbformat": 3,
 "nbformat_minor": 0,
 "worksheets": [
  {
   "cells": [
    {
     "cell_type": "markdown",
     "metadata": {},
     "source": [
      "# Portland 2011 Crime\n",
      "\n",
      "One nice thing about Portland is the wealth of data available through [CivicApps](http://www.civicapps.org/). For this example, let's check out some [Crime Data](http://www.civicapps.org/datasets/crime-incidents-2011) (though a [modified version](http://www.opengeocode.org/cude/civicapps/civicapps.crime_incident_data_2011.csv))."
     ]
    },
    {
     "cell_type": "code",
     "collapsed": false,
     "input": [
      "%matplotlib inline\n",
      "import pandas as pd\n",
      "import numpy as np\n",
      "import matplotlib.pyplot as plt\n",
      "from IPython.display import set_matplotlib_formats\n",
      "set_matplotlib_formats('svg')"
     ],
     "language": "python",
     "metadata": {},
     "outputs": []
    },
    {
     "cell_type": "code",
     "collapsed": false,
     "input": [
      "import seaborn as sns"
     ],
     "language": "python",
     "metadata": {},
     "outputs": []
    },
    {
     "cell_type": "markdown",
     "metadata": {},
     "source": [
      "The data is provided in CSV format, which looks something like this:"
     ]
    },
    {
     "cell_type": "code",
     "collapsed": false,
     "input": [
      "df = pd.read_csv('data/civicapps.crime_incident_data_2011.csv')\n",
      "df.head(2)"
     ],
     "language": "python",
     "metadata": {},
     "outputs": []
    },
    {
     "cell_type": "markdown",
     "metadata": {},
     "source": [
      "First, let's do a simple count of the most common types of crime.\n",
      "Thankfully for those of us who live here \"taking or messing with people's stuff\" are the top contenders."
     ]
    },
    {
     "cell_type": "code",
     "collapsed": false,
     "input": [
      "offenses = df.groupby('Major Offense Type').count()['Record ID'].copy()\n",
      "offenses.sort(ascending=True)\n",
      "\n",
      "offenses.plot(kind='barh')\n",
      "plt.title(\"Top Portland Offenses in 2012\")"
     ],
     "language": "python",
     "metadata": {},
     "outputs": []
    },
    {
     "cell_type": "markdown",
     "metadata": {},
     "source": [
      "Next, let's index the data based on where the crimes occured. (This would be probably better mixed in with per capita or neighborhood area data, but it's a reasonable place to start looking.) There are many neighborhoods in the data set, so we'll just look at the top 20 for now."
     ]
    },
    {
     "cell_type": "code",
     "collapsed": false,
     "input": [
      "hoods = df.groupby('Neighborhood').count()['Record ID'].copy()\n",
      "hoods.sort(ascending=False)\n",
      "hoods = hoods[0:20]\n",
      "\n",
      "tophoods = set(hoods.index)\n",
      "\n",
      "hoods.sort(ascending=True)\n",
      "hoods.plot(kind='barh')\n",
      "plt.title(\"Top 20 Portland Crime Hoods in 2011\")"
     ],
     "language": "python",
     "metadata": {},
     "outputs": []
    },
    {
     "cell_type": "code",
     "collapsed": false,
     "input": [
      "df['rough_hood'] = df.Neighborhood.apply(lambda x: x in tophoods)"
     ],
     "language": "python",
     "metadata": {},
     "outputs": []
    },
    {
     "cell_type": "markdown",
     "metadata": {},
     "source": [
      "My neighborhood isn't on this list; out of curiosity, which types of crimes are common in my backyard? I admit being relieved not to see homicide, kidnap, rape or arson on the list!"
     ]
    },
    {
     "cell_type": "code",
     "collapsed": false,
     "input": [
      "bridlemile = df[df['Neighborhood'] == 'BRIDLEMILE']\n",
      "offenses = bridlemile.groupby('Major Offense Type').count()['Record ID'].copy()\n",
      "offenses.sort(ascending=True)\n",
      "\n",
      "offenses.plot(kind='barh')\n",
      "plt.title(\"Top Bridlemile Offenses in 2011\")"
     ],
     "language": "python",
     "metadata": {},
     "outputs": []
    },
    {
     "cell_type": "markdown",
     "metadata": {},
     "source": [
      "Finally for now, we can take a look at the crimes correlated to the neighborhoods they occured in. The heatmap is a useful tool for this. (Again, limiting the neighborhoods to the top 20 most common to keep the chart legible.) It's interesting to note 'hot spots'."
     ]
    },
    {
     "cell_type": "code",
     "collapsed": false,
     "input": [
      "by_neighborhood = pd.pivot_table(df[df['rough_hood'] == True], rows=['Major Offense Type'], columns=['Neighborhood'], aggfunc='count')\n",
      "by_neighborhood = by_neighborhood['Record ID'].fillna(0).sort('DOWNTOWN', ascending=False)\n",
      "#by_neighborhood"
     ],
     "language": "python",
     "metadata": {},
     "outputs": []
    },
    {
     "cell_type": "code",
     "collapsed": false,
     "input": [
      "def k_izer(num):\n",
      "    if num >= 1000:\n",
      "        return \"{:.1f}k\".format(num/1000.0)\n",
      "    else:\n",
      "        return \"{:d}\".format(int(num))\n",
      "\n",
      "fig, ax = plt.subplots()\n",
      "heatmap = ax.pcolor(by_neighborhood, cmap=plt.cm.Blues, alpha=0.8)\n",
      "fig = plt.gcf()\n",
      "fig.set_size_inches(10,10)\n",
      "ax.set_frame_on(False)\n",
      "ax.set_yticks(np.arange(by_neighborhood.shape[0])+0.5, minor=False)\n",
      "ax.set_xticks(np.arange(by_neighborhood.shape[1])+0.5, minor=False)\n",
      "ax.invert_yaxis()\n",
      "ax.xaxis.tick_top()\n",
      "plt.xticks(rotation=90)\n",
      "ax.grid(False)\n",
      "ax = plt.gca()\n",
      "\n",
      "ax.set_xticklabels(by_neighborhood.columns, minor=False) \n",
      "ax.set_yticklabels(by_neighborhood.index, minor=False)\n",
      "\n",
      "for t in ax.xaxis.get_major_ticks(): \n",
      "    t.tick1On = False \n",
      "    t.tick2On = False \n",
      "for t in ax.yaxis.get_major_ticks(): \n",
      "    t.tick1On = False \n",
      "    t.tick2On = False\n",
      "\n",
      "for y in range(by_neighborhood.shape[0]):\n",
      "    for x in range(by_neighborhood.shape[1]):\n",
      "        plt.text(x + 0.5, y + 0.5, k_izer(by_neighborhood.iloc[y, x]),\n",
      "                 horizontalalignment='center',\n",
      "                 verticalalignment='center',\n",
      "                 )\n",
      "\n",
      "plt.colorbar(heatmap)"
     ],
     "language": "python",
     "metadata": {},
     "outputs": []
    },
    {
     "cell_type": "code",
     "collapsed": false,
     "input": [],
     "language": "python",
     "metadata": {},
     "outputs": []
    }
   ],
   "metadata": {}
  }
 ]
}