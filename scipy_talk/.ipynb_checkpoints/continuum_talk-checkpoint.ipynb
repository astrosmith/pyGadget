{
 "cells": [
  {
   "cell_type": "markdown",
   "metadata": {
    "slideshow": {
     "slide_type": "slide"
    }
   },
   "source": [
    "#Building a Universe from Scratch\n",
    "#####Forming the First Stars and Galaxies"
   ]
  },
  {
   "cell_type": "markdown",
   "metadata": {
    "slideshow": {
     "slide_type": "slide"
    }
   },
   "source": [
    "## Our Universe began with the Big Bang 13.8 billion years ago."
   ]
  },
  {
   "cell_type": "markdown",
   "metadata": {
    "slideshow": {
     "slide_type": "slide"
    }
   },
   "source": [
    "#####400,000 years later, this happened:\n",
    "<div class=\"stretch\"><img src=\"images/cmb.png\"/></div>"
   ]
  },
  {
   "cell_type": "markdown",
   "metadata": {
    "slideshow": {
     "slide_type": "fragment"
    }
   },
   "source": [
    "#### The Cosmic Microwave Background shows us what the Universe was like at very early times with great detail.\n",
    "* It's basically the Universe's baby picture."
   ]
  },
  {
   "cell_type": "markdown",
   "metadata": {
    "slideshow": {
     "slide_type": "slide"
    }
   },
   "source": [
    "###But what happened after the CMB was produced?"
   ]
  },
  {
   "cell_type": "markdown",
   "metadata": {
    "slideshow": {
     "slide_type": "fragment"
    }
   },
   "source": [
    "###The Dark Ages!\n",
    "<div class=\"stretch\"><img src=\"images/not_dead_yet.gif\"/></div>"
   ]
  },
  {
   "cell_type": "markdown",
   "metadata": {
    "slideshow": {
     "slide_type": "slide"
    }
   },
   "source": [
    "<div class=\"stretch\"><img src=\"images/timeline.png\"/></div>\n"
   ]
  },
  {
   "cell_type": "markdown",
   "metadata": {
    "slideshow": {
     "slide_type": "slide"
    }
   },
   "source": [
    "#The first stars fundamentally transformed the Universe, setting the stage for everything to follow.\n",
    "<div class=\"stretch\"><img src=\"images/pop3.jpg\"/></div>"
   ]
  },
  {
   "cell_type": "markdown",
   "metadata": {
    "slideshow": {
     "slide_type": "fragment"
    }
   },
   "source": [
    "* They illuminate the Universe for the first time since the release of the CMB.\n",
    "* Those photons heat and ionize the surrounding gas.\n",
    "* They also form the first elements heavier than lithium, and enrich their surroudings when they die.\n",
    "\n",
    "##### All of these things depend heavily on their mass..."
   ]
  },
  {
   "cell_type": "markdown",
   "metadata": {
    "slideshow": {
     "slide_type": "slide"
    }
   },
   "source": [
    "#Our ultimate goal is to understand how the first galaxies form."
   ]
  },
  {
   "cell_type": "markdown",
   "metadata": {
    "slideshow": {
     "slide_type": "fragment"
    }
   },
   "source": [
    "<div class=\"stretch\"><img src=\"images/jwst_austin.jpg\"/></div>\n",
    "Image Credit: Chris Gunn"
   ]
  },
  {
   "cell_type": "markdown",
   "metadata": {
    "slideshow": {
     "slide_type": "slide"
    }
   },
   "source": [
    "## _My_ goal is to understand how radiation from the very first stars impacts the formation of the _second_ generation."
   ]
  },
  {
   "cell_type": "markdown",
   "metadata": {
    "slideshow": {
     "slide_type": "slide"
    }
   },
   "source": [
    "#So how do we tackle this problem?"
   ]
  },
  {
   "cell_type": "markdown",
   "metadata": {
    "slideshow": {
     "slide_type": "fragment"
    }
   },
   "source": [
    "### The CMB provides us with a starting point:\n",
    "<div class=\"stretch\"><img src=\"images/cmb.png\"/></div>"
   ]
  },
  {
   "cell_type": "markdown",
   "metadata": {
    "slideshow": {
     "slide_type": "slide"
    }
   },
   "source": [
    "## Early on, everything is simple.\n",
    "* Gravitational forces are small.\n",
    "* Things move slowly.\n",
    "* Can be modeled analytically."
   ]
  },
  {
   "cell_type": "markdown",
   "metadata": {
    "slideshow": {
     "slide_type": "fragment"
    }
   },
   "source": [
    "### After 10 million years or so, things become too complex.\n",
    "* Motion of the gas and dark matter becomes nonlinear.\n",
    "* Analytic models break down, so we turn to numerical methods."
   ]
  },
  {
   "cell_type": "markdown",
   "metadata": {
    "slideshow": {
     "slide_type": "slide"
    }
   },
   "source": [
    "# Break one big complex problem into millions of simple little ones by discretizing the system in time and space.\n"
   ]
  },
  {
   "cell_type": "markdown",
   "metadata": {
    "slideshow": {
     "slide_type": "fragment"
    }
   },
   "source": [
    "## Basic Equations of Hydrodynamics\n",
    "\n",
    "#####Conservation of Mass (Continuity Equation):\n",
    " $\\frac{{\\rm D}\\rho}{{\\rm D}t} + \\rho \\nabla \\cdot v = 0$\n",
    "#####Momentum Conservation (Navier-Stokes / Euler Equation):\n",
    "$\\frac{{\\rm D}v}{{\\rm D}t} -\\frac{\\nabla p}{\\rho} = \\nabla\\Phi$\n",
    "#####Conservation of Energy: \n",
    "$\\rho \\frac{{\\rm D}e}{{\\rm D}t} = -p \\nabla \\cdot v$\n",
    "#####Poisson Equation (Gravity): \n",
    "$\\nabla^2\\Phi = 4\\pi G \\rho$\n",
    "##### Equation of State:\n",
    "$p = \\mathcal{R} \\rho T$"
   ]
  },
  {
   "cell_type": "markdown",
   "metadata": {
    "slideshow": {
     "slide_type": "subslide"
    }
   },
   "source": [
    "<div class=\"stretch\"><img src=\"images/sph_primer.png\"/></div>"
   ]
  },
  {
   "cell_type": "markdown",
   "metadata": {
    "slideshow": {
     "slide_type": "slide"
    }
   },
   "source": [
    "# Smoothed-Particle Hydrodynamics (SPH)\n",
    "<div class=\"stretch\"><img src=\"images/sphkernel1.jpg\"/></div>\n",
    "##Continuity Equation becomes: $$\\rho_i = \\sum_{j=1}^{N} m_j W(r_{ij}, h_{ij}) $$"
   ]
  },
  {
   "cell_type": "markdown",
   "metadata": {
    "slideshow": {
     "slide_type": "slide"
    }
   },
   "source": [
    "<div class=\"stretch\"><img src=\"images/sph_water.jpg\"/></div>"
   ]
  },
  {
   "cell_type": "code",
   "execution_count": 7,
   "metadata": {
    "collapsed": false,
    "scrolled": false,
    "slideshow": {
     "slide_type": "subslide"
    }
   },
   "outputs": [
    {
     "data": {
      "text/html": [
       "\n",
       "        <iframe\n",
       "            width=\"853\"\n",
       "            height=\"480\"\n",
       "            src=\"https://www.youtube.com/embed/N2Fah8RoX5M\"\n",
       "            frameborder=\"0\"\n",
       "            allowfullscreen\n",
       "        ></iframe>\n",
       "        "
      ],
      "text/plain": [
       "<IPython.lib.display.YouTubeVideo at 0x10447a6d0>"
      ]
     },
     "execution_count": 7,
     "metadata": {},
     "output_type": "execute_result"
    }
   ],
   "source": [
    "from IPython.display import YouTubeVideo\n",
    "YouTubeVideo('N2Fah8RoX5M', width=853, height=480)"
   ]
  },
  {
   "cell_type": "markdown",
   "metadata": {
    "slideshow": {
     "slide_type": "slide"
    }
   },
   "source": [
    "# [GADGET-2](http://www.mpa-garching.mpg.de/gadget/)\n",
    "* Massively MPI parallel N-body + SPH code\n",
    "* Standard code written in C\n",
    "* Used to study a variety of astrophysical problems (mostly star/galaxy formation)\n",
    "* Simulations use from 100,000 to 10,000,000,000 particles depending on the problem.\n",
    "* Can take from 1,000 to 10,000,000 CPU hours\n",
    "* Timestep dumps (full system state) can be GBs to TBs in size."
   ]
  },
  {
   "cell_type": "markdown",
   "metadata": {
    "slideshow": {
     "slide_type": "fragment"
    }
   },
   "source": [
    "####My Simulations:\n",
    "* ~25,000,000 particles\n",
    "* 36-48 hours running on 256 cores (~10,000 CPU hours)\n",
    "* ~2000 snapshots of 2-3 GB, totalling ~5 TB"
   ]
  },
  {
   "cell_type": "markdown",
   "metadata": {
    "slideshow": {
     "slide_type": "subslide"
    }
   },
   "source": [
    "##### Stampede: 100,000-core supercomputer located at TACC, #7 in the world.\n",
    "<div class=\"stretch\"><img src=\"images/stampede.jpg\"/></div>"
   ]
  },
  {
   "cell_type": "markdown",
   "metadata": {
    "slideshow": {
     "slide_type": "slide"
    }
   },
   "source": [
    "# Additional Physics\n",
    "###Stock GADGET has basic physics covered, but any additional physics needed has to be added by hand.\n",
    "* Chemistry Solver\n",
    "* Radiation Transport\n",
    "* Sink particle method"
   ]
  },
  {
   "cell_type": "markdown",
   "metadata": {
    "slideshow": {
     "slide_type": "fragment"
    }
   },
   "source": [
    "##### Much of my thesis work has been focused on modifying GADGET to include the effects of X-ray and Cosmic Ray backgrounds."
   ]
  },
  {
   "cell_type": "markdown",
   "metadata": {
    "slideshow": {
     "slide_type": "slide"
    }
   },
   "source": [
    "### The simulations themselves use C and FORTRAN (chemistry), but everything else gets done in python:\n",
    "* Data stored in hdf5 files -- file I/O with h5py\n",
    "* Analysis done in Pandas / numpy / scipy\n",
    "* Visualization with matplotlib, mayavi + C routines via scipy.weave\n",
    "    * Looking into replacing with Numba\n",
    "* IPython notebooks for everything, talks included ;-)"
   ]
  },
  {
   "cell_type": "markdown",
   "metadata": {
    "slideshow": {
     "slide_type": "slide"
    }
   },
   "source": [
    "<video width=934, height=772 controls>\n",
    "  <source src=\"images/zoom.mov\" type=\"video/mp4\">\n",
    "</video>"
   ]
  },
  {
   "cell_type": "markdown",
   "metadata": {
    "slideshow": {
     "slide_type": "subslide"
    }
   },
   "source": [
    "<div class=\"stretch\"><img src=\"images/structure-vanilla_t0.png\"/></div>"
   ]
  },
  {
   "cell_type": "markdown",
   "metadata": {
    "slideshow": {
     "slide_type": "slide"
    }
   },
   "source": [
    "<div class=\"stretch\"><img src=\"images/halo-structure-vanilla_t5k.png\"/></div>"
   ]
  },
  {
   "cell_type": "markdown",
   "metadata": {
    "slideshow": {
     "slide_type": "slide"
    }
   },
   "source": [
    "<video width=934, height=772 controls>\n",
    "  <source src=\"images/disk.mov\" type=\"video/mp4\">\n",
    "</video>"
   ]
  },
  {
   "cell_type": "markdown",
   "metadata": {
    "slideshow": {
     "slide_type": "subslide"
    }
   },
   "source": [
    "<div class=\"stretch\"><img src=\"images/disk.png\"/></div>"
   ]
  }
 ],
 "metadata": {
  "celltoolbar": "Slideshow",
  "kernelspec": {
   "display_name": "Python 2",
   "language": "python",
   "name": "python2"
  },
  "language_info": {
   "codemirror_mode": {
    "name": "ipython",
    "version": 2
   },
   "file_extension": ".py",
   "mimetype": "text/x-python",
   "name": "python",
   "nbconvert_exporter": "python",
   "pygments_lexer": "ipython2",
   "version": "2.7.9"
  }
 },
 "nbformat": 4,
 "nbformat_minor": 0
}
