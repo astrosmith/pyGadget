{
 "metadata": {
  "name": "",
  "signature": "sha256:788fc964b0f1b8ce1b844b1bc6c27e56853ea0b62de8a4c54c8294bd4ec7ddcf"
 },
 "nbformat": 3,
 "nbformat_minor": 0,
 "worksheets": [
  {
   "cells": [
    {
     "cell_type": "markdown",
     "metadata": {},
     "source": [
      "# Very Simple Demo Notebook\n",
      "\n",
      "* Code Execution\n",
      "* Menus and Controls\n",
      "* Visualizing HTML\n",
      "* Keyboard shortcuts\n",
      "* Inline help"
     ]
    },
    {
     "cell_type": "markdown",
     "metadata": {},
     "source": [
      "First and foremost, the notebook is great for interactively running code."
     ]
    },
    {
     "cell_type": "code",
     "collapsed": false,
     "input": [
      "print \"foo bar\""
     ],
     "language": "python",
     "metadata": {},
     "outputs": []
    },
    {
     "cell_type": "markdown",
     "metadata": {},
     "source": [
      "There's tab completion, and integrated help..."
     ]
    },
    {
     "cell_type": "code",
     "collapsed": false,
     "input": [
      "import numpy\n",
      "from matplotlib import pyplot as plt"
     ],
     "language": "python",
     "metadata": {},
     "outputs": []
    },
    {
     "cell_type": "code",
     "collapsed": false,
     "input": [
      "numpy.sqrt?"
     ],
     "language": "python",
     "metadata": {},
     "outputs": []
    },
    {
     "cell_type": "code",
     "collapsed": false,
     "input": [
      "numpy.arange()"
     ],
     "language": "python",
     "metadata": {},
     "outputs": []
    },
    {
     "cell_type": "markdown",
     "metadata": {},
     "source": [
      "If you make an error, the feedback is nicely formatted..."
     ]
    },
    {
     "cell_type": "code",
     "collapsed": false,
     "input": [
      "1/0"
     ],
     "language": "python",
     "metadata": {},
     "outputs": []
    },
    {
     "cell_type": "markdown",
     "metadata": {},
     "source": [
      "There's even an integrated debugger! (``%debug`` magic)"
     ]
    },
    {
     "cell_type": "code",
     "collapsed": false,
     "input": [
      "%debug \n",
      "for div in range(0,10)[::-1]:\n",
      "    print 10.0/div"
     ],
     "language": "python",
     "metadata": {},
     "outputs": []
    },
    {
     "cell_type": "code",
     "collapsed": false,
     "input": [
      "range(0,10)"
     ],
     "language": "python",
     "metadata": {},
     "outputs": []
    },
    {
     "cell_type": "markdown",
     "metadata": {},
     "source": [
      "This is a browser! You're not limited to just displaying text:"
     ]
    },
    {
     "cell_type": "code",
     "collapsed": false,
     "input": [
      "from IPython.display import Image\n",
      "img = Image(filename='PresentationImages/mcdonald_logo.png')\n",
      "img"
     ],
     "language": "python",
     "metadata": {},
     "outputs": []
    },
    {
     "cell_type": "markdown",
     "metadata": {},
     "source": [
      "Not by a long shot. This is just a teaser, but you can inline display just about anything you can see in a browser."
     ]
    },
    {
     "cell_type": "code",
     "collapsed": false,
     "input": [
      "# display images inline, as well as other magic\n",
      "%matplotlib inline           \n",
      "# Get a list of evenly spaced numbers from 0-5\n",
      "x = numpy.linspace(0, 5)\n",
      "# Get a list of all of those squared\n",
      "y = x ** 2\n",
      "# Plot x vs y in red\n",
      "plt.plot(x, y, 'r')"
     ],
     "language": "python",
     "metadata": {},
     "outputs": []
    },
    {
     "cell_type": "markdown",
     "metadata": {},
     "source": [
      "And there are keyboard shortcuts for everything, so you can do incredibly rapid development."
     ]
    },
    {
     "cell_type": "markdown",
     "metadata": {},
     "source": [
      "# Essential Shortcuts\n",
      "\n",
      "* ``Esc/Enter``: Mode Switch\n",
      "* ``j/k``: Move up/down\n",
      "* Execute Cells\n",
      "    * ``Shift-Enter``: Run and go down\n",
      "    * ``Alt-Enter``: Run and make new\n",
      "    * ``Control-Enter``: Run in place\n",
      "* ``a/b``: Insert cell above/below\n",
      "* ``x``: cut cell\n",
      "* Cell mode switch:\n",
      "    * `r`: raw\n",
      "    * `m`: markdown\n",
      "    * `y`: p**y**thon code\n",
      "    \n",
      "![executing cells](PresentationImages/ExecutingCells.png)"
     ]
    },
    {
     "cell_type": "markdown",
     "metadata": {},
     "source": [
      "And finally, showing in a single quick demo, you can\n",
      "* run shell commands\n",
      "* convert output to HTML (and many other formats.)"
     ]
    },
    {
     "cell_type": "code",
     "collapsed": false,
     "input": [
      "!ipython nbconvert \"Quick Demo.ipynb\" --to html\n",
      "!open \"Quick Demo.html\""
     ],
     "language": "python",
     "metadata": {},
     "outputs": []
    }
   ],
   "metadata": {}
  }
 ]
}